{
 "cells": [
  {
   "cell_type": "markdown",
   "metadata": {
    "collapsed": true
   },
   "source": [
    "# Cancer Test Results"
   ]
  },
  {
   "cell_type": "code",
   "execution_count": 2,
   "metadata": {},
   "outputs": [
    {
     "name": "stdout",
     "output_type": "stream",
     "text": [
      "   patient_id test_result  has_cancer\n",
      "0       79452    Negative       False\n",
      "1       81667    Positive        True\n",
      "2       76297    Negative       False\n",
      "3       36593    Negative       False\n",
      "4       53717    Negative       False\n"
     ]
    }
   ],
   "source": [
    "# load dataset\n",
    "import pandas as pd\n",
    "data=pd.read_csv(\"cancer_test_data.csv\")\n",
    "print (data.head())"
   ]
  },
  {
   "cell_type": "code",
   "execution_count": 45,
   "metadata": {},
   "outputs": [
    {
     "name": "stdout",
     "output_type": "stream",
     "text": [
      "(2914, 3)\n"
     ]
    }
   ],
   "source": [
    "# number of patients\n",
    "number_of_patients=data.shape\n",
    "print(number_of_patients)"
   ]
  },
  {
   "cell_type": "code",
   "execution_count": null,
   "metadata": {},
   "outputs": [],
   "source": []
  },
  {
   "cell_type": "code",
   "execution_count": 43,
   "metadata": {},
   "outputs": [
    {
     "name": "stdout",
     "output_type": "stream",
     "text": [
      "306\n"
     ]
    }
   ],
   "source": [
    "# number of patients with cancer\n",
    "number_of_patients_with_cancer=data.has_cancer.sum()\n",
    "print(number_of_patients_with_cancer)"
   ]
  },
  {
   "cell_type": "code",
   "execution_count": 40,
   "metadata": {},
   "outputs": [
    {
     "name": "stdout",
     "output_type": "stream",
     "text": [
      "2608\n"
     ]
    }
   ],
   "source": [
    "# number of patients without cancer\n",
    "number_of_patients_without_cancer=(data.has_cancer==False).sum()\n",
    "print(number_of_patients_without_cancer)"
   ]
  },
  {
   "cell_type": "code",
   "execution_count": 29,
   "metadata": {},
   "outputs": [
    {
     "name": "stdout",
     "output_type": "stream",
     "text": [
      "0.105010295127\n"
     ]
    }
   ],
   "source": [
    "# proportion of patients with cancer\n",
    "proption_of_patients_with_Cancer=data.has_cancer.mean()\n",
    "print(proption_of_patients_with_Cancer)"
   ]
  },
  {
   "cell_type": "code",
   "execution_count": 30,
   "metadata": {},
   "outputs": [
    {
     "name": "stdout",
     "output_type": "stream",
     "text": [
      "0.894989704873\n"
     ]
    }
   ],
   "source": [
    "# proportion of patients without cancer\n",
    "proption_of_patients_without_Cancer=(data.has_cancer==False).mean()\n",
    "print(proption_of_patients_without_Cancer)"
   ]
  },
  {
   "cell_type": "code",
   "execution_count": 33,
   "metadata": {},
   "outputs": [
    {
     "name": "stdout",
     "output_type": "stream",
     "text": [
      "0.90522875817\n"
     ]
    }
   ],
   "source": [
    "# proportion of patients with cancer who test positive\n",
    "proption_of_patients_with_Cancer_testpositive=(data.query('has_cancer')['test_result']==\"Positive\").mean()\n",
    "print(proption_of_patients_with_Cancer_testpositive)"
   ]
  },
  {
   "cell_type": "code",
   "execution_count": 35,
   "metadata": {},
   "outputs": [
    {
     "name": "stdout",
     "output_type": "stream",
     "text": [
      "0.0947712418301\n"
     ]
    }
   ],
   "source": [
    "# proportion of patients with cancer who test negative\n",
    "proption_of_patients_with_Cancer_testnegative=(data.query('has_cancer')['test_result']==\"Negative\").mean()\n",
    "print(proption_of_patients_with_Cancer_testnegative)"
   ]
  },
  {
   "cell_type": "code",
   "execution_count": 37,
   "metadata": {},
   "outputs": [
    {
     "name": "stdout",
     "output_type": "stream",
     "text": [
      "0.203604294479\n"
     ]
    }
   ],
   "source": [
    "# proportion of patients without cancer who test positive\n",
    "proption_of_patients_without_Cancer_testpositive=(data.query('has_cancer==False')['test_result']==\"Positive\").mean()\n",
    "print(proption_of_patients_without_Cancer_testpositive)"
   ]
  },
  {
   "cell_type": "code",
   "execution_count": 38,
   "metadata": {},
   "outputs": [
    {
     "name": "stdout",
     "output_type": "stream",
     "text": [
      "0.796395705521\n"
     ]
    }
   ],
   "source": [
    "proption_of_patients_without_Cancer_testnegative=(data.query('has_cancer==False')['test_result']==\"Negative\").mean()# proportion of patients without cancer who test negative\n",
    "print(proption_of_patients_without_Cancer_testnegative)"
   ]
  }
 ],
 "metadata": {
  "kernelspec": {
   "display_name": "Python 3",
   "language": "python",
   "name": "python3"
  },
  "language_info": {
   "codemirror_mode": {
    "name": "ipython",
    "version": 3
   },
   "file_extension": ".py",
   "mimetype": "text/x-python",
   "name": "python",
   "nbconvert_exporter": "python",
   "pygments_lexer": "ipython3",
   "version": "3.6.3"
  }
 },
 "nbformat": 4,
 "nbformat_minor": 2
}
